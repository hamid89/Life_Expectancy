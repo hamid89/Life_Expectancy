{
 "cells": [
  {
   "cell_type": "code",
   "execution_count": 1,
   "metadata": {},
   "outputs": [],
   "source": [
    "import pandas as pd\n",
    "import numpy as np \n",
    "import matplotlib.pyplot as plt \n",
    "import seaborn as sns\n",
    "import warnings\n",
    "warnings.filterwarnings('ignore')\n",
    "from sklearn.preprocessing import PowerTransformer\n",
    "from statsmodels.stats.outliers_influence import variance_inflation_factor\n",
    "from sklearn.metrics import mean_absolute_error\n",
    "from sklearn.metrics import mean_squared_error\n",
    "%matplotlib inline\n"
   ]
  },
  {
   "cell_type": "markdown",
   "metadata": {},
   "source": [
    "Reading csv file in Pandas dataframe"
   ]
  },
  {
   "cell_type": "code",
   "execution_count": 2,
   "metadata": {},
   "outputs": [],
   "source": [
    "def read_csv(filename):\n",
    "    data = pd.read_csv(filename)\n",
    "    return data"
   ]
  },
  {
   "cell_type": "markdown",
   "metadata": {},
   "source": [
    "Standardizing columns"
   ]
  },
  {
   "cell_type": "code",
   "execution_count": 3,
   "metadata": {},
   "outputs": [],
   "source": [
    "def col_standard(columns):\n",
    "    return [val.lower().replace(' ','_') for val in columns]"
   ]
  },
  {
   "cell_type": "markdown",
   "metadata": {},
   "source": [
    "Data splitting into categorical and numerical "
   ]
  },
  {
   "cell_type": "code",
   "execution_count": 4,
   "metadata": {},
   "outputs": [],
   "source": [
    "def data_split(data):\n",
    "    data1 = pd.DataFrame()\n",
    "    data2 = pd.DataFrame()\n",
    "    data1 = data.select_dtypes(include = np.number)\n",
    "    data2 = data.select_dtypes(include = np.object)\n",
    "    return data1,data2"
   ]
  },
  {
   "cell_type": "markdown",
   "metadata": {},
   "source": [
    "Null value counts"
   ]
  },
  {
   "cell_type": "code",
   "execution_count": 5,
   "metadata": {},
   "outputs": [],
   "source": [
    "def null_counts(data):\n",
    "    print(data.isnull().sum())"
   ]
  },
  {
   "cell_type": "markdown",
   "metadata": {},
   "source": [
    "Droping null values. Call this function only when we have a small proportion of null values in certain column "
   ]
  },
  {
   "cell_type": "code",
   "execution_count": 6,
   "metadata": {},
   "outputs": [],
   "source": [
    "def drop_null(data):\n",
    "    data = data.dropna()\n",
    "    print(data.isna().sum())\n",
    "    return data"
   ]
  },
  {
   "cell_type": "markdown",
   "metadata": {},
   "source": [
    "Droping column function"
   ]
  },
  {
   "cell_type": "code",
   "execution_count": 7,
   "metadata": {},
   "outputs": [],
   "source": [
    "def col_drop(data,columnName):\n",
    "    for val in columnName:\n",
    "        data = data.drop(val,axis = 1)\n",
    "    return data\n",
    "    "
   ]
  },
  {
   "cell_type": "code",
   "execution_count": 8,
   "metadata": {},
   "outputs": [],
   "source": [
    "def display():\n",
    "    print('csv file reading--> read_csv(filename)')\n",
    "    print('column name standardization --> col_standard(columns)')\n",
    "    print('splitting data into categorical and numerical --> data_split(data)')\n",
    "    print('Null value counts for each column--> null_counts(data)')\n",
    "    print('Droping null values. Call this function only needed --> drop_null(data)')\n",
    "    print('column Droping --> col_drop(data,columnName)')\n",
    "    "
   ]
  },
  {
   "cell_type": "markdown",
   "metadata": {},
   "source": [
    "original csv filename and store the data without header name into csv"
   ]
  },
  {
   "cell_type": "markdown",
   "metadata": {},
   "source": [
    "correlation and heat map"
   ]
  },
  {
   "cell_type": "code",
   "execution_count": 9,
   "metadata": {},
   "outputs": [],
   "source": [
    "def my_heatMap(data):\n",
    "    correlations_matrix = data.corr()\n",
    "    mask = np.zeros_like(correlations_matrix)\n",
    "    mask[np.triu_indices_from(mask)] = True\n",
    "    fig, ax = plt.subplots(figsize=(25, 10))\n",
    "    ax = sns.heatmap(correlations_matrix, mask=mask, annot=True)\n",
    "    plt.show()\n",
    "    "
   ]
  },
  {
   "cell_type": "code",
   "execution_count": 10,
   "metadata": {},
   "outputs": [],
   "source": [
    "def VIF(data):\n",
    "    flag = True\n",
    "    threshold = 3\n",
    "    print(threshold)\n",
    "    while flag is True:\n",
    "    #print(data_corr.head())\n",
    "        flag = False\n",
    "        values = [variance_inflation_factor(np.array(data), i) for i in np.arange(data.shape[1])]\n",
    "    #print(values)\n",
    "        #print(min(values))\n",
    "        \n",
    "        if max(values)> threshold:\n",
    "                col_index = values.index(max(values))\n",
    "                column_name = data.columns[col_index]\n",
    "                data = data.drop([column_name], axis=1)\n",
    "                flag = True\n",
    "    return data"
   ]
  },
  {
   "cell_type": "code",
   "execution_count": 11,
   "metadata": {},
   "outputs": [],
   "source": [
    "y = lambda x: np.log(x) if(x>0) else x"
   ]
  },
  {
   "cell_type": "code",
   "execution_count": 12,
   "metadata": {},
   "outputs": [],
   "source": [
    "def distribution_plot(data,column):\n",
    "    power = PowerTransformer(method='yeo-johnson', standardize=True)\n",
    "    data_trans = power.fit_transform(data[column].values.reshape(-1,1))\n",
    "    data_trans = [item[0] for item in data_trans]\n",
    "    data_log = data[column].apply(lambda x: np.log(x) if(x>0) else x)  ## Fix this function to not get infs \n",
    "    fig, (ax1, ax2, ax3) = plt.subplots(1, 3, figsize = (15,4))\n",
    "    sns.distplot(data[column], ax=ax1)\n",
    "    ax1.set_title('Actual Distribution')\n",
    "    sns.distplot(data_log, ax=ax2)\n",
    "    ax2.set_title('Log Transformation')\n",
    "    sns.distplot(data_trans, ax=ax3)\n",
    "    ax3.set_title('Yeo-Johnson Transformation')\n",
    "    plt.show()\n"
   ]
  },
  {
   "cell_type": "code",
   "execution_count": 13,
   "metadata": {},
   "outputs": [],
   "source": [
    "def models_automation(models, X_train, y_train, X_test, y_test):\n",
    "    lis = []\n",
    "    lis1 = []\n",
    "    for i,model in enumerate(models):\n",
    "        lis.append([])\n",
    "        lis1.append([])\n",
    "        model.fit(X_train, y_train)\n",
    "        print(f\"{str(model)}: Test -> {model.score(X_test, y_test)}\")\n",
    "        lis[i].append(model.score(X_test, y_test))\n",
    "        y_predict = model.predict(X_test)\n",
    "        plt.scatter(np.arange(0,len(X_test),1), y_test, color = 'black', label = 'actual_prices')\n",
    "        plt.plot(np.arange(0,len(X_test),1), y_predict, color = 'blue', linewidth = 3, label = 'predicted_prices')\n",
    "        plt.title(str(model)+' Test set plot')\n",
    "        plt.xlabel('Actual price')\n",
    "        plt.ylabel('Prices')\n",
    "        plt.legend()\n",
    "        plt.xticks(())\n",
    "        plt.yticks(())\n",
    "        plt.show()\n",
    "        lis1[i].append(list(y_predict))\n",
    "        lis[i].append(mean_absolute_error(y_test,y_predict))\n",
    "        lis[i].append(mean_squared_error(y_test,y_predict))\n",
    "        lis[i].append(mean_squared_error(y_test, y_predict, squared=False))\n",
    "    return lis,lis1"
   ]
  },
  {
   "cell_type": "code",
   "execution_count": 14,
   "metadata": {},
   "outputs": [],
   "source": [
    "def my_difference(categorical_data,categorical_data_hot):\n",
    "    categorical_data_ordinal = []\n",
    "    for item in categorical_data:\n",
    "        if item not in categorical_data_hot:\n",
    "            categorical_data_ordinal.append(item)\n",
    "    return categorical_data_ordinal"
   ]
  },
  {
   "cell_type": "code",
   "execution_count": 15,
   "metadata": {},
   "outputs": [],
   "source": [
    "def my_scores(lis):\n",
    "    results = pd.DataFrame(lis,columns = ['R_square', 'MAE','MSE','RMSE'])\n",
    "    results.insert(0,'Models',['Linear Regression', 'KNneighborsRegressor', 'RandomForestRegressor'])\n",
    "    results = results.T\n",
    "    return results"
   ]
  },
  {
   "cell_type": "code",
   "execution_count": 16,
   "metadata": {},
   "outputs": [],
   "source": [
    "def plot_errors(y, y_pred):\n",
    "    \n",
    "    \n",
    " #   fig, (ax1, ax2) = plt.subplots(1, 2, figsize = (15,4))\n",
    "  #  plt.subplots_adjust(left=None, bottom=5, right=None, top=6, wspace=None, hspace=None)\n",
    "    fig, ax = plt.subplots()\n",
    "    sns.set(color_codes=True)\n",
    "    sns.set(rc={'figure.figsize':(7, 7)})\n",
    "    plt.ylabel(\"Predicted 'price'\")\n",
    "    plt.title(\"Test set: Predictions against real values\")\n",
    "    X_plot = np.linspace(10, 16, 16)\n",
    "    Y_plot = X_plot\n",
    "    sns.regplot(x=y, y=y_pred, fit_reg=False, ax=ax,scatter_kws={\"color\": \"blue\", \"s\":1})\n",
    "    plt.plot(X_plot, Y_plot, color='r',linewidth=4.)\n",
    "    plt.show()\n",
    "    \n",
    "    #sns.displot(y-y_pred, kde=True, ax=ax2)\n",
    "    #plt.title(\"Train set: Distribution of residuals\")\n",
    "    #plt.show()\n"
   ]
  },
  {
   "cell_type": "code",
   "execution_count": null,
   "metadata": {},
   "outputs": [],
   "source": [
    "\n"
   ]
  },
  {
   "cell_type": "code",
   "execution_count": null,
   "metadata": {},
   "outputs": [],
   "source": []
  },
  {
   "cell_type": "code",
   "execution_count": null,
   "metadata": {},
   "outputs": [],
   "source": []
  }
 ],
 "metadata": {
  "kernelspec": {
   "display_name": "Python 3",
   "language": "python",
   "name": "python3"
  },
  "language_info": {
   "codemirror_mode": {
    "name": "ipython",
    "version": 3
   },
   "file_extension": ".py",
   "mimetype": "text/x-python",
   "name": "python",
   "nbconvert_exporter": "python",
   "pygments_lexer": "ipython3",
   "version": "3.9.0"
  }
 },
 "nbformat": 4,
 "nbformat_minor": 4
}
